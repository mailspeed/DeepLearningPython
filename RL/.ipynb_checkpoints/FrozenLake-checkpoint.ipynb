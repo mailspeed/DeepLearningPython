{
 "cells": [
  {
   "cell_type": "code",
   "execution_count": 5,
   "metadata": {},
   "outputs": [
    {
     "ename": "IndentationError",
     "evalue": "expected an indented block (<ipython-input-5-443f193e1e94>, line 51)",
     "output_type": "error",
     "traceback": [
      "\u001b[1;36m  File \u001b[1;32m\"<ipython-input-5-443f193e1e94>\"\u001b[1;36m, line \u001b[1;32m51\u001b[0m\n\u001b[1;33m    for episode in range(test_num_episodes):\u001b[0m\n\u001b[1;37m                                            ^\u001b[0m\n\u001b[1;31mIndentationError\u001b[0m\u001b[1;31m:\u001b[0m expected an indented block\n"
     ]
    }
   ],
   "source": [
    "import gym\n",
    "import numpy as np\n",
    "\n",
    "env=gym.make(\"FrozenLake-v0\")\n",
    "q_table = np.random.uniform(0, 1, (16, 4))\n",
    "max_number_steps = 100\n",
    "num_episodes = 10000\n",
    "total_reward = 0\n",
    "test_num_episodes=1000\n",
    "\n",
    "def get_action(next_state, episode):\n",
    "    epsilon = 0.001\n",
    "    if epsilon < np.random.uniform(0,1):\n",
    "        next_action = np.argmax(q_table[next_state])\n",
    "    else:\n",
    "        next_action = np.random.randint(4)\n",
    "    return next_action\n",
    "\n",
    "def update_Qtable(q_table, state, action, reward, next_state):\n",
    "    gamma = 0.99\n",
    "    alpha = 0.3\n",
    "    \n",
    "    q_table[state, action]=(1-alpha) * q_table[state, action] + alpha * (reward + gamma * max(q_table[next_state]))\n",
    "    return q_table\n",
    "\n",
    "for episode in range(num_episodes):\n",
    "    state = env.reset()\n",
    "    action = np.argmax(q_table[state])\n",
    "    \n",
    "    for t in range(max_number_steps):\n",
    "        next_state, reward, done,_ = env.step(action)\n",
    "        \n",
    "        if done:\n",
    "            if next_state==15:\n",
    "                reward = 100\n",
    "            else:\n",
    "                reward = -10\n",
    "        \n",
    "        q_table = update_Qtable(q_table, state, action, reward, next_state)\n",
    "        \n",
    "        action = get_action(next_state, episode)\n",
    "        state = next_state\n",
    "        \n",
    "        if done:\n",
    "            break\n",
    "    \n",
    "    #if (episode+1)%100 ==0:\n",
    "    #    print(\"{} episodes finished\".format(episode+1))\n",
    "    \n",
    "\n",
    "for episode in range(test_num_episodes):\n",
    "    state = env.reset()\n",
    "    env.render()\n",
    "    for t in range(max_number_steps):\n",
    "        action = np.argmax(q_table[state])\n",
    "        state, reward, done,_ = env.step(action)\n",
    "        total_reward+=reward\n",
    "        env.render()\n",
    "        if done:\n",
    "            print(\"{} time steps finished\".format(t+1))\n",
    "            break\n",
    "            \n",
    "print(\"\\n q_table=\\n\", q_table)\n",
    "print(\"\\n average_reward=\", total_reward/test_num_episodes)\n",
    "\n",
    "q_table_max=[]\n",
    "for i in range(16):\n",
    "    q_table_max.append(np.argmax(q_table[i]))\n",
    "    \n",
    "print(\"\\n q_table_max=\", q_table_max)\n",
    "    "
   ]
  },
  {
   "cell_type": "code",
   "execution_count": null,
   "metadata": {},
   "outputs": [],
   "source": []
  }
 ],
 "metadata": {
  "kernelspec": {
   "display_name": "ai_gpu",
   "language": "python",
   "name": "ai_gpu"
  },
  "language_info": {
   "codemirror_mode": {
    "name": "ipython",
    "version": 3
   },
   "file_extension": ".py",
   "mimetype": "text/x-python",
   "name": "python",
   "nbconvert_exporter": "python",
   "pygments_lexer": "ipython3",
   "version": "3.6.8"
  }
 },
 "nbformat": 4,
 "nbformat_minor": 4
}
